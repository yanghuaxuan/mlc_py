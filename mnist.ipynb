{
 "cells": [
  {
   "cell_type": "markdown",
   "id": "48025469-c3f7-4364-bc45-97f3e3439005",
   "metadata": {
    "editable": true,
    "slideshow": {
     "slide_type": ""
    },
    "tags": []
   },
   "source": [
    "# Network Demo w/ MNIST DB\n",
    "\n",
    "(Pytorch is used solely for importing MNIST database)"
   ]
  },
  {
   "cell_type": "code",
   "execution_count": 1,
   "id": "766e220e-3173-4ec5-b20e-ab4f6282fda3",
   "metadata": {
    "scrolled": true
   },
   "outputs": [
    {
     "name": "stdout",
     "output_type": "stream",
     "text": [
      "Requirement already satisfied: torch in /Users/raph/Library/jupyterlab-desktop/jlab_server/lib/python3.12/site-packages (2.2.0)\n",
      "Requirement already satisfied: torchvision in /Users/raph/Library/jupyterlab-desktop/jlab_server/lib/python3.12/site-packages (0.17.0)\n",
      "Requirement already satisfied: matplotlib in /Users/raph/Library/jupyterlab-desktop/jlab_server/lib/python3.12/site-packages (3.8.2)\n",
      "Requirement already satisfied: numpy in /Users/raph/Library/jupyterlab-desktop/jlab_server/lib/python3.12/site-packages (1.26.4)\n",
      "Requirement already satisfied: filelock in /Users/raph/Library/jupyterlab-desktop/jlab_server/lib/python3.12/site-packages (from torch) (3.13.1)\n",
      "Requirement already satisfied: typing-extensions>=4.8.0 in /Users/raph/Library/jupyterlab-desktop/jlab_server/lib/python3.12/site-packages (from torch) (4.9.0)\n",
      "Requirement already satisfied: sympy in /Users/raph/Library/jupyterlab-desktop/jlab_server/lib/python3.12/site-packages (from torch) (1.12)\n",
      "Requirement already satisfied: networkx in /Users/raph/Library/jupyterlab-desktop/jlab_server/lib/python3.12/site-packages (from torch) (3.2.1)\n",
      "Requirement already satisfied: jinja2 in /Users/raph/Library/jupyterlab-desktop/jlab_server/lib/python3.12/site-packages (from torch) (3.1.3)\n",
      "Requirement already satisfied: fsspec in /Users/raph/Library/jupyterlab-desktop/jlab_server/lib/python3.12/site-packages (from torch) (2024.2.0)\n",
      "Requirement already satisfied: requests in /Users/raph/Library/jupyterlab-desktop/jlab_server/lib/python3.12/site-packages (from torchvision) (2.31.0)\n",
      "Requirement already satisfied: pillow!=8.3.*,>=5.3.0 in /Users/raph/Library/jupyterlab-desktop/jlab_server/lib/python3.12/site-packages (from torchvision) (10.2.0)\n",
      "Requirement already satisfied: contourpy>=1.0.1 in /Users/raph/Library/jupyterlab-desktop/jlab_server/lib/python3.12/site-packages (from matplotlib) (1.2.0)\n",
      "Requirement already satisfied: cycler>=0.10 in /Users/raph/Library/jupyterlab-desktop/jlab_server/lib/python3.12/site-packages (from matplotlib) (0.12.1)\n",
      "Requirement already satisfied: fonttools>=4.22.0 in /Users/raph/Library/jupyterlab-desktop/jlab_server/lib/python3.12/site-packages (from matplotlib) (4.48.1)\n",
      "Requirement already satisfied: kiwisolver>=1.3.1 in /Users/raph/Library/jupyterlab-desktop/jlab_server/lib/python3.12/site-packages (from matplotlib) (1.4.5)\n",
      "Requirement already satisfied: packaging>=20.0 in /Users/raph/Library/jupyterlab-desktop/jlab_server/lib/python3.12/site-packages (from matplotlib) (23.2)\n",
      "Requirement already satisfied: pyparsing>=2.3.1 in /Users/raph/Library/jupyterlab-desktop/jlab_server/lib/python3.12/site-packages (from matplotlib) (3.1.1)\n",
      "Requirement already satisfied: python-dateutil>=2.7 in /Users/raph/Library/jupyterlab-desktop/jlab_server/lib/python3.12/site-packages (from matplotlib) (2.8.2)\n",
      "Requirement already satisfied: six>=1.5 in /Users/raph/Library/jupyterlab-desktop/jlab_server/lib/python3.12/site-packages (from python-dateutil>=2.7->matplotlib) (1.16.0)\n",
      "Requirement already satisfied: MarkupSafe>=2.0 in /Users/raph/Library/jupyterlab-desktop/jlab_server/lib/python3.12/site-packages (from jinja2->torch) (2.1.5)\n",
      "Requirement already satisfied: charset-normalizer<4,>=2 in /Users/raph/Library/jupyterlab-desktop/jlab_server/lib/python3.12/site-packages (from requests->torchvision) (3.3.2)\n",
      "Requirement already satisfied: idna<4,>=2.5 in /Users/raph/Library/jupyterlab-desktop/jlab_server/lib/python3.12/site-packages (from requests->torchvision) (3.6)\n",
      "Requirement already satisfied: urllib3<3,>=1.21.1 in /Users/raph/Library/jupyterlab-desktop/jlab_server/lib/python3.12/site-packages (from requests->torchvision) (2.2.0)\n",
      "Requirement already satisfied: certifi>=2017.4.17 in /Users/raph/Library/jupyterlab-desktop/jlab_server/lib/python3.12/site-packages (from requests->torchvision) (2024.2.2)\n",
      "Requirement already satisfied: mpmath>=0.19 in /Users/raph/Library/jupyterlab-desktop/jlab_server/lib/python3.12/site-packages (from sympy->torch) (1.3.0)\n"
     ]
    }
   ],
   "source": [
    "!pip install torch torchvision matplotlib numpy"
   ]
  },
  {
   "cell_type": "markdown",
   "id": "70032b3f-1dc5-46e8-9a26-ca10b45cd4bc",
   "metadata": {},
   "source": [
    "# Load MNIST Data set (From Torchvision)"
   ]
  },
  {
   "cell_type": "code",
   "execution_count": 1,
   "id": "22a9bdfe-009d-4dcf-89f4-160b633dc3dc",
   "metadata": {},
   "outputs": [
    {
     "name": "stdout",
     "output_type": "stream",
     "text": [
      "Total training data: 10\n",
      "<zip object at 0x13d1448c0>\n",
      "Image Shape: (784,)\n"
     ]
    },
    {
     "data": {
      "image/png": "[encoded data removed]",
      "text/plain": [
       "<Figure size 640x480 with 1 Axes>"
      ]
     },
     "metadata": {},
     "output_type": "display_data"
    }
   ],
   "source": [
    "import os\n",
    "os.environ['KMP_DUPLICATE_LIB_OK']='True'\n",
    "\n",
    "import torch\n",
    "import torchvision\n",
    "from torch.utils.data import Dataset, Subset\n",
    "from torchvision import datasets\n",
    "from torchvision.transforms import ToTensor, Lambda\n",
    "import numpy as np\n",
    "import matplotlib.pyplot as plt\n",
    "\n",
    "\n",
    "dataset = datasets.FashionMNIST(\n",
    "    root=\"data\",\n",
    "    train=True,\n",
    "    download=True,\n",
    ")\n",
    "\n",
    "# Get only 1/4 of data\n",
    "training_data = Subset(dataset, range(10))\n",
    "print(f\"Total training data: {len(training_data)}\")\n",
    "\n",
    "labels_map = {\n",
    "    0: \"T-Shirt\",\n",
    "    1: \"Trouser\",\n",
    "    2: \"Pullover\",\n",
    "    3: \"Dress\",\n",
    "    4: \"Coat\",\n",
    "    5: \"Sandal\",\n",
    "    6: \"Shirt\",\n",
    "    7: \"Sneaker\",\n",
    "    8: \"Bag\",\n",
    "    9: \"Ankle Boot\",\n",
    "}\n",
    "\n",
    "img_array = [(np.array(data[0].convert(\"L\")) / 255).reshape((-1)) for data in training_data]\n",
    "img_label = [[data[1]] for data in training_data]\n",
    "\n",
    "xd = zip(img_array, img_label)\n",
    "print(xd)\n",
    "#img_array = img_array / 255\n",
    "\n",
    "plt.imshow(training_data[2][0], cmap=\"gray\")\n",
    "print(f\"Image Shape: {img_array[0].shape}\")\n"
   ]
  },
  {
   "cell_type": "markdown",
   "id": "df684523-722f-43fc-996e-046123216924",
   "metadata": {},
   "source": [
    "# Create Network"
   ]
  },
  {
   "cell_type": "code",
   "execution_count": 4,
   "id": "55341f59-cbbf-4d61-826a-d27e920cee98",
   "metadata": {},
   "outputs": [],
   "source": [
    "from network import Network, SGD\n",
    "\n",
    "net0 = Network(input_shape=784, layers=[512, 10])\n",
    "# SGD(net0, training_data=[([1,1], [1]), ([1,0], [0]), ([0,1], [0]), ([0,0],[0])], mini_batch_size=3, epochs=10000, learn_rate=2)\n",
    "#data = list(zip(img_array, img_label))\n",
    "\n",
    "#SGD(net0, training_data=data, mini_batch_size=3, epochs=1, learn_rate=2)\n",
    "#\n",
    "\n",
    "#SGD(net0, training_data\n",
    "#print(net0)"
   ]
  },
  {
   "cell_type": "markdown",
   "id": "59c5361b-8805-47b4-86b8-a068d8fda246",
   "metadata": {},
   "source": [
    "# Train Model"
   ]
  },
  {
   "cell_type": "code",
   "execution_count": null,
   "id": "37102237-9da2-48f0-9fc6-38d64a7b2eec",
   "metadata": {},
   "outputs": [
    {
     "name": "stdout",
     "output_type": "stream",
     "text": [
      "epoch 0\n"
     ]
    }
   ],
   "source": [
    "data = list(zip(img_array, img_label))\n",
    "\n",
    "\n",
    "SGD(net0, training_data=data, mini_batch_size=1, epochs=1, learn_rate=2)"
   ]
  },
  {
   "cell_type": "code",
   "execution_count": null,
   "id": "fdea1282-2b5a-4b22-ae97-31e0813a30e7",
   "metadata": {},
   "outputs": [],
   "source": [
    "print(net0.layers[2].weights)\n"
   ]
  },
  {
   "cell_type": "code",
   "execution_count": null,
   "id": "c33a0087-feeb-4f83-bb7c-e6e7d522ed2b",
   "metadata": {},
   "outputs": [],
   "source": []
  }
 ],
 "metadata": {
  "kernelspec": {
   "display_name": "Python 3 (ipykernel)",
   "language": "python",
   "name": "python3"
  },
  "language_info": {
   "codemirror_mode": {
    "name": "ipython",
    "version": 3
   },
   "file_extension": ".py",
   "mimetype": "text/x-python",
   "name": "python",
   "nbconvert_exporter": "python",
   "pygments_lexer": "ipython3",
   "version": "3.12.1"
  }
 },
 "nbformat": 4,
 "nbformat_minor": 5
}
