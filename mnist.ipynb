{
 "cells": [
  {
   "cell_type": "markdown",
   "id": "48025469-c3f7-4364-bc45-97f3e3439005",
   "metadata": {},
   "source": [
    "# Network Demo w/ MNIST DB\n",
    "\n",
    "(Pytorch is used solely for importing MNIST database)"
   ]
  },
  {
   "cell_type": "code",
   "execution_count": 2,
   "id": "766e220e-3173-4ec5-b20e-ab4f6282fda3",
   "metadata": {
    "scrolled": true
   },
   "outputs": [
    {
     "name": "stdout",
     "output_type": "stream",
     "text": [
      "Requirement already satisfied: torch in /Users/raph/Library/jupyterlab-desktop/jlab_server/lib/python3.12/site-packages (2.2.0)\n",
      "Requirement already satisfied: torchvision in /Users/raph/Library/jupyterlab-desktop/jlab_server/lib/python3.12/site-packages (0.17.0)\n",
      "Requirement already satisfied: matplotlib in /Users/raph/Library/jupyterlab-desktop/jlab_server/lib/python3.12/site-packages (3.8.2)\n",
      "Requirement already satisfied: numpy in /Users/raph/Library/jupyterlab-desktop/jlab_server/lib/python3.12/site-packages (1.26.4)\n",
      "Requirement already satisfied: filelock in /Users/raph/Library/jupyterlab-desktop/jlab_server/lib/python3.12/site-packages (from torch) (3.13.1)\n",
      "Requirement already satisfied: typing-extensions>=4.8.0 in /Users/raph/Library/jupyterlab-desktop/jlab_server/lib/python3.12/site-packages (from torch) (4.9.0)\n",
      "Requirement already satisfied: sympy in /Users/raph/Library/jupyterlab-desktop/jlab_server/lib/python3.12/site-packages (from torch) (1.12)\n",
      "Requirement already satisfied: networkx in /Users/raph/Library/jupyterlab-desktop/jlab_server/lib/python3.12/site-packages (from torch) (3.2.1)\n",
      "Requirement already satisfied: jinja2 in /Users/raph/Library/jupyterlab-desktop/jlab_server/lib/python3.12/site-packages (from torch) (3.1.3)\n",
      "Requirement already satisfied: fsspec in /Users/raph/Library/jupyterlab-desktop/jlab_server/lib/python3.12/site-packages (from torch) (2024.2.0)\n",
      "Requirement already satisfied: requests in /Users/raph/Library/jupyterlab-desktop/jlab_server/lib/python3.12/site-packages (from torchvision) (2.31.0)\n",
      "Requirement already satisfied: pillow!=8.3.*,>=5.3.0 in /Users/raph/Library/jupyterlab-desktop/jlab_server/lib/python3.12/site-packages (from torchvision) (10.2.0)\n",
      "Requirement already satisfied: contourpy>=1.0.1 in /Users/raph/Library/jupyterlab-desktop/jlab_server/lib/python3.12/site-packages (from matplotlib) (1.2.0)\n",
      "Requirement already satisfied: cycler>=0.10 in /Users/raph/Library/jupyterlab-desktop/jlab_server/lib/python3.12/site-packages (from matplotlib) (0.12.1)\n",
      "Requirement already satisfied: fonttools>=4.22.0 in /Users/raph/Library/jupyterlab-desktop/jlab_server/lib/python3.12/site-packages (from matplotlib) (4.48.1)\n",
      "Requirement already satisfied: kiwisolver>=1.3.1 in /Users/raph/Library/jupyterlab-desktop/jlab_server/lib/python3.12/site-packages (from matplotlib) (1.4.5)\n",
      "Requirement already satisfied: packaging>=20.0 in /Users/raph/Library/jupyterlab-desktop/jlab_server/lib/python3.12/site-packages (from matplotlib) (23.2)\n",
      "Requirement already satisfied: pyparsing>=2.3.1 in /Users/raph/Library/jupyterlab-desktop/jlab_server/lib/python3.12/site-packages (from matplotlib) (3.1.1)\n",
      "Requirement already satisfied: python-dateutil>=2.7 in /Users/raph/Library/jupyterlab-desktop/jlab_server/lib/python3.12/site-packages (from matplotlib) (2.8.2)\n",
      "Requirement already satisfied: six>=1.5 in /Users/raph/Library/jupyterlab-desktop/jlab_server/lib/python3.12/site-packages (from python-dateutil>=2.7->matplotlib) (1.16.0)\n",
      "Requirement already satisfied: MarkupSafe>=2.0 in /Users/raph/Library/jupyterlab-desktop/jlab_server/lib/python3.12/site-packages (from jinja2->torch) (2.1.5)\n",
      "Requirement already satisfied: charset-normalizer<4,>=2 in /Users/raph/Library/jupyterlab-desktop/jlab_server/lib/python3.12/site-packages (from requests->torchvision) (3.3.2)\n",
      "Requirement already satisfied: idna<4,>=2.5 in /Users/raph/Library/jupyterlab-desktop/jlab_server/lib/python3.12/site-packages (from requests->torchvision) (3.6)\n",
      "Requirement already satisfied: urllib3<3,>=1.21.1 in /Users/raph/Library/jupyterlab-desktop/jlab_server/lib/python3.12/site-packages (from requests->torchvision) (2.2.0)\n",
      "Requirement already satisfied: certifi>=2017.4.17 in /Users/raph/Library/jupyterlab-desktop/jlab_server/lib/python3.12/site-packages (from requests->torchvision) (2024.2.2)\n",
      "Requirement already satisfied: mpmath>=0.19 in /Users/raph/Library/jupyterlab-desktop/jlab_server/lib/python3.12/site-packages (from sympy->torch) (1.3.0)\n"
     ]
    }
   ],
   "source": [
    "!pip install torch torchvision matplotlib numpy"
   ]
  },
  {
   "cell_type": "markdown",
   "id": "70032b3f-1dc5-46e8-9a26-ca10b45cd4bc",
   "metadata": {},
   "source": [
    "### Load MNIST Data set"
   ]
  },
  {
   "cell_type": "code",
   "execution_count": 25,
   "id": "22a9bdfe-009d-4dcf-89f4-160b633dc3dc",
   "metadata": {},
   "outputs": [
    {
     "name": "stdout",
     "output_type": "stream",
     "text": [
      "Image: <PIL.Image.Image image mode=L size=28x28 at 0x15CFDF2C0> Label: 9\n"
     ]
    }
   ],
   "source": [
    "import os\n",
    "os.environ['KMP_DUPLICATE_LIB_OK']='True'\n",
    "\n",
    "import torch\n",
    "import torchvision\n",
    "from torch.utils.data import Dataset\n",
    "from torchvision import datasets\n",
    "from torchvision.transforms import ToTensor, Lambda\n",
    "import numpy as np\n",
    "\n",
    "training_data = datasets.FashionMNIST(\n",
    "    root=\"data\",\n",
    "    train=True,\n",
    "    download=True,\n",
    ")\n",
    "\n",
    "print(f\"Image: {(training_data[0][0])} Label: {training_data[0][1]}\")"
   ]
  },
  {
   "cell_type": "code",
   "execution_count": null,
   "id": "ea961e51-97f9-412c-84e4-8c85da9d4d4d",
   "metadata": {},
   "outputs": [],
   "source": []
  }
 ],
 "metadata": {
  "kernelspec": {
   "display_name": "Python 3 (ipykernel)",
   "language": "python",
   "name": "python3"
  },
  "language_info": {
   "codemirror_mode": {
    "name": "ipython",
    "version": 3
   },
   "file_extension": ".py",
   "mimetype": "text/x-python",
   "name": "python",
   "nbconvert_exporter": "python",
   "pygments_lexer": "ipython3",
   "version": "3.12.1"
  }
 },
 "nbformat": 4,
 "nbformat_minor": 5
}
